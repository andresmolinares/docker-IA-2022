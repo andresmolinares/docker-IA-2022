{
 "cells": [
  {
   "cell_type": "code",
   "execution_count": null,
   "metadata": {},
   "outputs": [],
   "source": []
  }
 ],
 "metadata": {
  "kernelspec": {
   "display_name": "Python 3.9.12 64-bit ('3.9.12')",
   "language": "python",
   "name": "python3"
  },
  "language_info": {
   "name": "python",
   "version": "3.9.12"
  },
  "orig_nbformat": 4,
  "vscode": {
   "interpreter": {
    "hash": "f6adb1feee0016e93e1aeb405cbecd33711e105392ab996a94abb47ca0cca6af"
   }
  }
 },
 "nbformat": 4,
 "nbformat_minor": 2
}
